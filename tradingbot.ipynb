{
 "cells": [
  {
   "cell_type": "code",
   "execution_count": 1,
   "id": "469b6615",
   "metadata": {},
   "outputs": [
    {
     "name": "stderr",
     "output_type": "stream",
     "text": [
      "Matplotlib is building the font cache; this may take a moment.\n"
     ]
    },
    {
     "ename": "SyntaxError",
     "evalue": "invalid syntax (tradier.py, line 413)",
     "output_type": "error",
     "traceback": [
      "Traceback \u001b[0;36m(most recent call last)\u001b[0m:\n",
      "\u001b[0m  File \u001b[1;32m~/Documents/TradingAlgo/tradingalgo/lib/python3.9/site-packages/IPython/core/interactiveshell.py:3550\u001b[0m in \u001b[1;35mrun_code\u001b[0m\n    exec(code_obj, self.user_global_ns, self.user_ns)\u001b[0m\n",
      "\u001b[0m  Cell \u001b[1;32mIn[1], line 1\u001b[0m\n    from lumibot.brokers import Alpaca\u001b[0m\n",
      "\u001b[0;36m  File \u001b[0;32m~/Documents/TradingAlgo/tradingalgo/lib/python3.9/site-packages/lumibot/brokers/__init__.py:5\u001b[0;36m\n\u001b[0;31m    from .tradier import Tradier\u001b[0;36m\n",
      "\u001b[0;36m  File \u001b[0;32m~/Documents/TradingAlgo/tradingalgo/lib/python3.9/site-packages/lumibot/brokers/tradier.py:413\u001b[0;36m\u001b[0m\n\u001b[0;31m    match order.status.lower():\u001b[0m\n\u001b[0m          ^\u001b[0m\n\u001b[0;31mSyntaxError\u001b[0m\u001b[0;31m:\u001b[0m invalid syntax\n"
     ]
    }
   ],
   "source": [
    "from lumibot.brokers import Alpaca\n",
    "from lumibot.backtesting import YahooDataBacktesting\n",
    "from lumibot.strategies import Strategy\n",
    "from lumibot.traders import Trader\n",
    "from datetime import datetime"
   ]
  },
  {
   "cell_type": "code",
   "execution_count": null,
   "id": "aca06a3d",
   "metadata": {},
   "outputs": [],
   "source": [
    "from dotenv import load_dotenv\n",
    "import os\n",
    "\n",
    "load_dotenv()  # Automatically looks for a .env file in the current directory\n",
    "\n",
    "api_key = os.getenv(\"training_api_key\")\n",
    "api_secret = os.getenv(\"training_api_secret\")\n",
    "BASE_URL = 'https://paper-api.alpaca.markets' "
   ]
  },
  {
   "cell_type": "code",
   "execution_count": 49,
   "id": "fe0a4367",
   "metadata": {},
   "outputs": [],
   "source": [
    "class AlpacaCreds:\n",
    "    def __init__(self, api_key, api_secret, base_url, paper):\n",
    "        self.API_KEY = api_key\n",
    "        self.API_SECRET = api_secret\n",
    "        self.BASE_URL = base_url\n",
    "        self.Paper = paper"
   ]
  },
  {
   "cell_type": "code",
   "execution_count": 50,
   "id": "601eb91f",
   "metadata": {},
   "outputs": [],
   "source": [
    "ALPACA_CREDS = AlpacaCreds(api_key, api_secret, BASE_URL, True)"
   ]
  },
  {
   "cell_type": "code",
   "execution_count": 51,
   "id": "1b8cf672",
   "metadata": {},
   "outputs": [],
   "source": [
    "class FirstStrategy(Strategy):\n",
    "    def initialize(self, symbol:str=\"SPY\"):\n",
    "        self.symbol = symbol\n",
    "        self.sleeptime = \"24H\" # The amount of time to sleep between trades\n",
    "        self.last_trade = None\n",
    "\n",
    "    def on_trading_iteration(self):\n",
    "        if self.last_trade == None:\n",
    "            order = self.create_order(\n",
    "                self.symbol,\n",
    "                10,\n",
    "                \"buy\",\n",
    "                type=\"market\"\n",
    "            )\n",
    "\n",
    "            self.submit_order(order)\n",
    "            self.last_trade = \"buy\""
   ]
  },
  {
   "cell_type": "code",
   "execution_count": 52,
   "id": "e47319f7",
   "metadata": {},
   "outputs": [],
   "source": [
    "start_date = datetime(2023, 1, 1)\n",
    "end_date = datetime(2023, 10, 1)"
   ]
  },
  {
   "cell_type": "code",
   "execution_count": 53,
   "id": "496c24da",
   "metadata": {},
   "outputs": [
    {
     "ename": "AttributeError",
     "evalue": "module 'alpaca_trade_api' has no attribute 'StreamConn'",
     "output_type": "error",
     "traceback": [
      "\u001b[0;31m---------------------------------------------------------------------------\u001b[0m",
      "\u001b[0;31mAttributeError\u001b[0m                            Traceback (most recent call last)",
      "Cell \u001b[0;32mIn[53], line 1\u001b[0m\n\u001b[0;32m----> 1\u001b[0m broker \u001b[38;5;241m=\u001b[39m \u001b[43mAlpaca\u001b[49m\u001b[43m(\u001b[49m\u001b[43mALPACA_CREDS\u001b[49m\u001b[43m)\u001b[49m\n\u001b[1;32m      2\u001b[0m strategy \u001b[38;5;241m=\u001b[39m FirstStrategy(name\u001b[38;5;241m=\u001b[39m\u001b[38;5;124m'\u001b[39m\u001b[38;5;124mfirst_strategy\u001b[39m\u001b[38;5;124m'\u001b[39m\n\u001b[1;32m      3\u001b[0m                       , broker\u001b[38;5;241m=\u001b[39mbroker\n\u001b[1;32m      4\u001b[0m                       , parameters\u001b[38;5;241m=\u001b[39m{\u001b[38;5;124m\"\u001b[39m\u001b[38;5;124msymbol\u001b[39m\u001b[38;5;124m\"\u001b[39m: \u001b[38;5;124m\"\u001b[39m\u001b[38;5;124mSPY\u001b[39m\u001b[38;5;124m\"\u001b[39m})\n\u001b[1;32m      6\u001b[0m strategy\u001b[38;5;241m.\u001b[39mbacktest(\n\u001b[1;32m      7\u001b[0m     YahooDataBacktesting\n\u001b[1;32m      8\u001b[0m     , start_date\u001b[38;5;241m=\u001b[39mstart_date\n\u001b[1;32m      9\u001b[0m     , end_date\u001b[38;5;241m=\u001b[39mend_date\n\u001b[1;32m     10\u001b[0m     , parameters\u001b[38;5;241m=\u001b[39m{\u001b[38;5;124m\"\u001b[39m\u001b[38;5;124msymbol\u001b[39m\u001b[38;5;124m\"\u001b[39m: \u001b[38;5;124m\"\u001b[39m\u001b[38;5;124mSPY\u001b[39m\u001b[38;5;124m\"\u001b[39m}\n\u001b[1;32m     11\u001b[0m )\n",
      "File \u001b[0;32m~/Documents/TradingAlgo/tradingalgo/lib/python3.9/site-packages/lumibot/brokers/alpaca.py:24\u001b[0m, in \u001b[0;36mAlpaca.__init__\u001b[0;34m(self, config, max_workers, chunk_size, connect_stream)\u001b[0m\n\u001b[1;32m     19\u001b[0m \u001b[38;5;28;01mdef\u001b[39;00m\u001b[38;5;250m \u001b[39m\u001b[38;5;21m__init__\u001b[39m(\u001b[38;5;28mself\u001b[39m, config, max_workers\u001b[38;5;241m=\u001b[39m\u001b[38;5;241m20\u001b[39m, chunk_size\u001b[38;5;241m=\u001b[39m\u001b[38;5;241m100\u001b[39m, connect_stream\u001b[38;5;241m=\u001b[39m\u001b[38;5;28;01mTrue\u001b[39;00m):\n\u001b[1;32m     20\u001b[0m     \u001b[38;5;66;03m# Calling init methods\u001b[39;00m\n\u001b[1;32m     21\u001b[0m     AlpacaData\u001b[38;5;241m.\u001b[39m\u001b[38;5;21m__init__\u001b[39m(\n\u001b[1;32m     22\u001b[0m         \u001b[38;5;28mself\u001b[39m, config, max_workers\u001b[38;5;241m=\u001b[39mmax_workers, chunk_size\u001b[38;5;241m=\u001b[39mchunk_size\n\u001b[1;32m     23\u001b[0m     )\n\u001b[0;32m---> 24\u001b[0m     \u001b[43mBroker\u001b[49m\u001b[38;5;241;43m.\u001b[39;49m\u001b[38;5;21;43m__init__\u001b[39;49m\u001b[43m(\u001b[49m\u001b[38;5;28;43mself\u001b[39;49m\u001b[43m,\u001b[49m\u001b[43m \u001b[49m\u001b[43mname\u001b[49m\u001b[38;5;241;43m=\u001b[39;49m\u001b[38;5;124;43m\"\u001b[39;49m\u001b[38;5;124;43malpaca\u001b[39;49m\u001b[38;5;124;43m\"\u001b[39;49m\u001b[43m,\u001b[49m\u001b[43m \u001b[49m\u001b[43mconnect_stream\u001b[49m\u001b[38;5;241;43m=\u001b[39;49m\u001b[43mconnect_stream\u001b[49m\u001b[43m)\u001b[49m\n",
      "File \u001b[0;32m~/Documents/TradingAlgo/tradingalgo/lib/python3.9/site-packages/lumibot/brokers/broker.py:44\u001b[0m, in \u001b[0;36mBroker.__init__\u001b[0;34m(self, name, connect_stream)\u001b[0m\n\u001b[1;32m     41\u001b[0m     \u001b[38;5;28mself\u001b[39m\u001b[38;5;241m.\u001b[39m_start_orders_thread()\n\u001b[1;32m     43\u001b[0m \u001b[38;5;66;03m# setting the stream object\u001b[39;00m\n\u001b[0;32m---> 44\u001b[0m \u001b[38;5;28mself\u001b[39m\u001b[38;5;241m.\u001b[39mstream \u001b[38;5;241m=\u001b[39m \u001b[38;5;28;43mself\u001b[39;49m\u001b[38;5;241;43m.\u001b[39;49m\u001b[43m_get_stream_object\u001b[49m\u001b[43m(\u001b[49m\u001b[43m)\u001b[49m\n\u001b[1;32m     45\u001b[0m \u001b[38;5;28;01mif\u001b[39;00m connect_stream:\n\u001b[1;32m     46\u001b[0m     \u001b[38;5;28mself\u001b[39m\u001b[38;5;241m.\u001b[39m_launch_stream()\n",
      "File \u001b[0;32m~/Documents/TradingAlgo/tradingalgo/lib/python3.9/site-packages/lumibot/brokers/alpaca.py:172\u001b[0m, in \u001b[0;36mAlpaca._get_stream_object\u001b[0;34m(self)\u001b[0m\n\u001b[1;32m    170\u001b[0m \u001b[38;5;28;01mdef\u001b[39;00m\u001b[38;5;250m \u001b[39m\u001b[38;5;21m_get_stream_object\u001b[39m(\u001b[38;5;28mself\u001b[39m):\n\u001b[1;32m    171\u001b[0m \u001b[38;5;250m    \u001b[39m\u001b[38;5;124;03m\"\"\"get the broker stream connection\"\"\"\u001b[39;00m\n\u001b[0;32m--> 172\u001b[0m     stream \u001b[38;5;241m=\u001b[39m \u001b[43mtradeapi\u001b[49m\u001b[38;5;241;43m.\u001b[39;49m\u001b[43mStreamConn\u001b[49m(\u001b[38;5;28mself\u001b[39m\u001b[38;5;241m.\u001b[39mapi_key, \u001b[38;5;28mself\u001b[39m\u001b[38;5;241m.\u001b[39mapi_secret, \u001b[38;5;28mself\u001b[39m\u001b[38;5;241m.\u001b[39mendpoint)\n\u001b[1;32m    173\u001b[0m     \u001b[38;5;28;01mreturn\u001b[39;00m stream\n",
      "\u001b[0;31mAttributeError\u001b[0m: module 'alpaca_trade_api' has no attribute 'StreamConn'"
     ]
    }
   ],
   "source": [
    "broker = Alpaca(ALPACA_CREDS)\n",
    "strategy = FirstStrategy(name='first_strategy'\n",
    "                      , broker=broker\n",
    "                      , parameters={\"symbol\": \"SPY\"})\n",
    "\n",
    "strategy.backtest(\n",
    "    YahooDataBacktesting\n",
    "    , start_date=start_date\n",
    "    , end_date=end_date\n",
    "    , parameters={\"symbol\": \"SPY\"}\n",
    ")"
   ]
  },
  {
   "cell_type": "code",
   "execution_count": null,
   "id": "c3c65c52",
   "metadata": {},
   "outputs": [],
   "source": []
  }
 ],
 "metadata": {
  "kernelspec": {
   "display_name": "tradingalgo",
   "language": "python",
   "name": "python3"
  },
  "language_info": {
   "codemirror_mode": {
    "name": "ipython",
    "version": 3
   },
   "file_extension": ".py",
   "mimetype": "text/x-python",
   "name": "python",
   "nbconvert_exporter": "python",
   "pygments_lexer": "ipython3",
   "version": "3.9.6"
  }
 },
 "nbformat": 4,
 "nbformat_minor": 5
}
