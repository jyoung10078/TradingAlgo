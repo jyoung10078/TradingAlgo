{
 "cells": [
  {
   "cell_type": "code",
   "execution_count": 16,
   "id": "4d91a39b",
   "metadata": {},
   "outputs": [
    {
     "ename": "AttributeError",
     "evalue": "'ZMQInteractiveShell' object has no attribute 'magic'",
     "output_type": "error",
     "traceback": [
      "\u001b[31m---------------------------------------------------------------------------\u001b[39m",
      "\u001b[31mAttributeError\u001b[39m                            Traceback (most recent call last)",
      "\u001b[36mCell\u001b[39m\u001b[36m \u001b[39m\u001b[32mIn[16]\u001b[39m\u001b[32m, line 2\u001b[39m\n\u001b[32m      1\u001b[39m \u001b[38;5;28;01mfrom\u001b[39;00m\u001b[38;5;250m \u001b[39m\u001b[34;01mdatetime\u001b[39;00m\u001b[38;5;250m \u001b[39m\u001b[38;5;28;01mimport\u001b[39;00m datetime\n\u001b[32m----> \u001b[39m\u001b[32m2\u001b[39m \u001b[38;5;28;01mfrom\u001b[39;00m\u001b[38;5;250m \u001b[39m\u001b[34;01mlumibot\u001b[39;00m\u001b[34;01m.\u001b[39;00m\u001b[34;01mbacktesting\u001b[39;00m\u001b[38;5;250m \u001b[39m\u001b[38;5;28;01mimport\u001b[39;00m YahooDataBacktesting\n\u001b[32m      3\u001b[39m \u001b[38;5;28;01mfrom\u001b[39;00m\u001b[38;5;250m \u001b[39m\u001b[34;01mlumibot\u001b[39;00m\u001b[34;01m.\u001b[39;00m\u001b[34;01mstrategies\u001b[39;00m\u001b[38;5;250m \u001b[39m\u001b[38;5;28;01mimport\u001b[39;00m Strategy\n",
      "\u001b[36mFile \u001b[39m\u001b[32m~/Documents/TradingAlgo/tradeEnv/lib/python3.11/site-packages/lumibot/backtesting/__init__.py:1\u001b[39m\n\u001b[32m----> \u001b[39m\u001b[32m1\u001b[39m \u001b[38;5;28;01mfrom\u001b[39;00m\u001b[38;5;250m \u001b[39m\u001b[34;01m.\u001b[39;00m\u001b[34;01malpaca_backtesting\u001b[39;00m\u001b[38;5;250m \u001b[39m\u001b[38;5;28;01mimport\u001b[39;00m AlpacaBacktesting\n\u001b[32m      2\u001b[39m \u001b[38;5;28;01mfrom\u001b[39;00m\u001b[38;5;250m \u001b[39m\u001b[34;01m.\u001b[39;00m\u001b[34;01malpaca_backtesting\u001b[39;00m\u001b[38;5;250m \u001b[39m\u001b[38;5;28;01mimport\u001b[39;00m AlpacaBacktesting\n\u001b[32m      3\u001b[39m \u001b[38;5;28;01mfrom\u001b[39;00m\u001b[38;5;250m \u001b[39m\u001b[34;01m.\u001b[39;00m\u001b[34;01malpha_vantage_backtesting\u001b[39;00m\u001b[38;5;250m \u001b[39m\u001b[38;5;28;01mimport\u001b[39;00m AlphaVantageBacktesting\n",
      "\u001b[36mFile \u001b[39m\u001b[32m~/Documents/TradingAlgo/tradeEnv/lib/python3.11/site-packages/lumibot/backtesting/alpaca_backtesting.py:15\u001b[39m\n\u001b[32m     12\u001b[39m \u001b[38;5;28;01mfrom\u001b[39;00m\u001b[38;5;250m \u001b[39m\u001b[34;01malpaca\u001b[39;00m\u001b[34;01m.\u001b[39;00m\u001b[34;01mdata\u001b[39;00m\u001b[34;01m.\u001b[39;00m\u001b[34;01mrequests\u001b[39;00m\u001b[38;5;250m \u001b[39m\u001b[38;5;28;01mimport\u001b[39;00m CryptoBarsRequest, StockBarsRequest\n\u001b[32m     13\u001b[39m \u001b[38;5;28;01mfrom\u001b[39;00m\u001b[38;5;250m \u001b[39m\u001b[34;01malpaca\u001b[39;00m\u001b[34;01m.\u001b[39;00m\u001b[34;01mdata\u001b[39;00m\u001b[34;01m.\u001b[39;00m\u001b[34;01mtimeframe\u001b[39;00m\u001b[38;5;250m \u001b[39m\u001b[38;5;28;01mimport\u001b[39;00m TimeFrame, TimeFrameUnit\n\u001b[32m---> \u001b[39m\u001b[32m15\u001b[39m \u001b[38;5;28;01mfrom\u001b[39;00m\u001b[38;5;250m \u001b[39m\u001b[34;01mlumibot\u001b[39;00m\u001b[34;01m.\u001b[39;00m\u001b[34;01mdata_sources\u001b[39;00m\u001b[38;5;250m \u001b[39m\u001b[38;5;28;01mimport\u001b[39;00m DataSourceBacktesting, AlpacaData\n\u001b[32m     16\u001b[39m \u001b[38;5;28;01mfrom\u001b[39;00m\u001b[38;5;250m \u001b[39m\u001b[34;01mlumibot\u001b[39;00m\u001b[34;01m.\u001b[39;00m\u001b[34;01mentities\u001b[39;00m\u001b[38;5;250m \u001b[39m\u001b[38;5;28;01mimport\u001b[39;00m Asset, Bars\n\u001b[32m     17\u001b[39m \u001b[38;5;28;01mfrom\u001b[39;00m\u001b[38;5;250m \u001b[39m\u001b[34;01mlumibot\u001b[39;00m\u001b[38;5;250m \u001b[39m\u001b[38;5;28;01mimport\u001b[39;00m (\n\u001b[32m     18\u001b[39m     LUMIBOT_CACHE_FOLDER,\n\u001b[32m     19\u001b[39m )\n",
      "\u001b[36mFile \u001b[39m\u001b[32m~/Documents/TradingAlgo/tradeEnv/lib/python3.11/site-packages/lumibot/data_sources/__init__.py:1\u001b[39m\n\u001b[32m----> \u001b[39m\u001b[32m1\u001b[39m \u001b[38;5;28;01mfrom\u001b[39;00m\u001b[38;5;250m \u001b[39m\u001b[34;01m.\u001b[39;00m\u001b[34;01malpaca_data\u001b[39;00m\u001b[38;5;250m \u001b[39m\u001b[38;5;28;01mimport\u001b[39;00m AlpacaData\n\u001b[32m      2\u001b[39m \u001b[38;5;28;01mfrom\u001b[39;00m\u001b[38;5;250m \u001b[39m\u001b[34;01m.\u001b[39;00m\u001b[34;01malpha_vantage_data\u001b[39;00m\u001b[38;5;250m \u001b[39m\u001b[38;5;28;01mimport\u001b[39;00m AlphaVantageData\n\u001b[32m      3\u001b[39m \u001b[38;5;28;01mfrom\u001b[39;00m\u001b[38;5;250m \u001b[39m\u001b[34;01m.\u001b[39;00m\u001b[34;01mccxt_data\u001b[39;00m\u001b[38;5;250m \u001b[39m\u001b[38;5;28;01mimport\u001b[39;00m CcxtData\n",
      "\u001b[36mFile \u001b[39m\u001b[32m~/Documents/TradingAlgo/tradeEnv/lib/python3.11/site-packages/lumibot/data_sources/alpaca_data.py:29\u001b[39m\n\u001b[32m     18\u001b[39m \u001b[38;5;28;01mfrom\u001b[39;00m\u001b[38;5;250m \u001b[39m\u001b[34;01malpaca\u001b[39;00m\u001b[34;01m.\u001b[39;00m\u001b[34;01mdata\u001b[39;00m\u001b[34;01m.\u001b[39;00m\u001b[34;01mrequests\u001b[39;00m\u001b[38;5;250m \u001b[39m\u001b[38;5;28;01mimport\u001b[39;00m (\n\u001b[32m     19\u001b[39m     CryptoBarsRequest,\n\u001b[32m     20\u001b[39m     CryptoLatestQuoteRequest,\n\u001b[32m   (...)\u001b[39m\u001b[32m     25\u001b[39m     OptionChainRequest,\n\u001b[32m     26\u001b[39m )\n\u001b[32m     27\u001b[39m \u001b[38;5;28;01mfrom\u001b[39;00m\u001b[38;5;250m \u001b[39m\u001b[34;01malpaca\u001b[39;00m\u001b[34;01m.\u001b[39;00m\u001b[34;01mdata\u001b[39;00m\u001b[34;01m.\u001b[39;00m\u001b[34;01mtimeframe\u001b[39;00m\u001b[38;5;250m \u001b[39m\u001b[38;5;28;01mimport\u001b[39;00m TimeFrame\n\u001b[32m---> \u001b[39m\u001b[32m29\u001b[39m \u001b[38;5;28;01mfrom\u001b[39;00m\u001b[38;5;250m \u001b[39m\u001b[34;01mlumibot\u001b[39;00m\u001b[34;01m.\u001b[39;00m\u001b[34;01mentities\u001b[39;00m\u001b[38;5;250m \u001b[39m\u001b[38;5;28;01mimport\u001b[39;00m Asset, Bars\n\u001b[32m     30\u001b[39m \u001b[38;5;28;01mfrom\u001b[39;00m\u001b[38;5;250m \u001b[39m\u001b[34;01mlumibot\u001b[39;00m\u001b[38;5;250m \u001b[39m\u001b[38;5;28;01mimport\u001b[39;00m (\n\u001b[32m     31\u001b[39m     LUMIBOT_DEFAULT_TIMEZONE,\n\u001b[32m     32\u001b[39m     LUMIBOT_DEFAULT_QUOTE_ASSET_SYMBOL,\n\u001b[32m     33\u001b[39m     LUMIBOT_DEFAULT_QUOTE_ASSET_TYPE\n\u001b[32m     34\u001b[39m )\n\u001b[32m     35\u001b[39m \u001b[38;5;28;01mfrom\u001b[39;00m\u001b[38;5;250m \u001b[39m\u001b[34;01mlumibot\u001b[39;00m\u001b[34;01m.\u001b[39;00m\u001b[34;01mtools\u001b[39;00m\u001b[34;01m.\u001b[39;00m\u001b[34;01mhelpers\u001b[39;00m\u001b[38;5;250m \u001b[39m\u001b[38;5;28;01mimport\u001b[39;00m (\n\u001b[32m     36\u001b[39m     get_decimals,\n\u001b[32m     37\u001b[39m     quantize_to_num_decimals,\n\u001b[32m     38\u001b[39m     get_trading_days,\n\u001b[32m     39\u001b[39m     date_n_trading_days_from_date\n\u001b[32m     40\u001b[39m )\n",
      "\u001b[36mFile \u001b[39m\u001b[32m~/Documents/TradingAlgo/tradeEnv/lib/python3.11/site-packages/lumibot/entities/__init__.py:1\u001b[39m\n\u001b[32m----> \u001b[39m\u001b[32m1\u001b[39m \u001b[38;5;28;01mfrom\u001b[39;00m\u001b[38;5;250m \u001b[39m\u001b[34;01m.\u001b[39;00m\u001b[34;01masset\u001b[39;00m\u001b[38;5;250m \u001b[39m\u001b[38;5;28;01mimport\u001b[39;00m Asset, AssetsMapping\n\u001b[32m      2\u001b[39m \u001b[38;5;28;01mfrom\u001b[39;00m\u001b[38;5;250m \u001b[39m\u001b[34;01m.\u001b[39;00m\u001b[34;01mbar\u001b[39;00m\u001b[38;5;250m \u001b[39m\u001b[38;5;28;01mimport\u001b[39;00m Bar\n\u001b[32m      3\u001b[39m \u001b[38;5;28;01mfrom\u001b[39;00m\u001b[38;5;250m \u001b[39m\u001b[34;01m.\u001b[39;00m\u001b[34;01mbars\u001b[39;00m\u001b[38;5;250m \u001b[39m\u001b[38;5;28;01mimport\u001b[39;00m Bars\n",
      "\u001b[36mFile \u001b[39m\u001b[32m~/Documents/TradingAlgo/tradeEnv/lib/python3.11/site-packages/lumibot/entities/asset.py:5\u001b[39m\n\u001b[32m      2\u001b[39m \u001b[38;5;28;01mfrom\u001b[39;00m\u001b[38;5;250m \u001b[39m\u001b[34;01mdatetime\u001b[39;00m\u001b[38;5;250m \u001b[39m\u001b[38;5;28;01mimport\u001b[39;00m date, datetime\n\u001b[32m      3\u001b[39m \u001b[38;5;28;01mfrom\u001b[39;00m\u001b[38;5;250m \u001b[39m\u001b[34;01menum\u001b[39;00m\u001b[38;5;250m \u001b[39m\u001b[38;5;28;01mimport\u001b[39;00m Enum\n\u001b[32m----> \u001b[39m\u001b[32m5\u001b[39m \u001b[38;5;28;01mfrom\u001b[39;00m\u001b[38;5;250m \u001b[39m\u001b[34;01mlumibot\u001b[39;00m\u001b[34;01m.\u001b[39;00m\u001b[34;01mtools\u001b[39;00m\u001b[38;5;250m \u001b[39m\u001b[38;5;28;01mimport\u001b[39;00m parse_symbol\n\u001b[32m      8\u001b[39m \u001b[38;5;66;03m# Custom string enum implementation for Python 3.9 compatibility\u001b[39;00m\n\u001b[32m      9\u001b[39m \u001b[38;5;28;01mclass\u001b[39;00m\u001b[38;5;250m \u001b[39m\u001b[34;01mStrEnum\u001b[39;00m(\u001b[38;5;28mstr\u001b[39m, Enum):\n",
      "\u001b[36mFile \u001b[39m\u001b[32m~/Documents/TradingAlgo/tradeEnv/lib/python3.11/site-packages/lumibot/tools/__init__.py:12\u001b[39m\n\u001b[32m     10\u001b[39m \u001b[38;5;28;01mfrom\u001b[39;00m\u001b[38;5;250m \u001b[39m\u001b[34;01m.\u001b[39;00m\u001b[34;01mdecorators\u001b[39;00m\u001b[38;5;250m \u001b[39m\u001b[38;5;28;01mimport\u001b[39;00m append_locals, execute_after, snatch_locals, staticdecorator\n\u001b[32m     11\u001b[39m \u001b[38;5;28;01mfrom\u001b[39;00m\u001b[38;5;250m \u001b[39m\u001b[34;01m.\u001b[39;00m\u001b[34;01mhelpers\u001b[39;00m\u001b[38;5;250m \u001b[39m\u001b[38;5;28;01mimport\u001b[39;00m *\n\u001b[32m---> \u001b[39m\u001b[32m12\u001b[39m \u001b[38;5;28;01mfrom\u001b[39;00m\u001b[38;5;250m \u001b[39m\u001b[34;01m.\u001b[39;00m\u001b[34;01mindicators\u001b[39;00m\u001b[38;5;250m \u001b[39m\u001b[38;5;28;01mimport\u001b[39;00m (\n\u001b[32m     13\u001b[39m     cagr,\n\u001b[32m     14\u001b[39m     calculate_returns,\n\u001b[32m     15\u001b[39m     create_tearsheet,\n\u001b[32m     16\u001b[39m     get_risk_free_rate,\n\u001b[32m     17\u001b[39m     get_symbol_returns,\n\u001b[32m     18\u001b[39m     max_drawdown,\n\u001b[32m     19\u001b[39m     performance,\n\u001b[32m     20\u001b[39m     plot_indicators,\n\u001b[32m     21\u001b[39m     plot_returns,\n\u001b[32m     22\u001b[39m     romad,\n\u001b[32m     23\u001b[39m     sharpe,\n\u001b[32m     24\u001b[39m     stats_summary,\n\u001b[32m     25\u001b[39m     total_return,\n\u001b[32m     26\u001b[39m     volatility,\n\u001b[32m     27\u001b[39m )\n\u001b[32m     28\u001b[39m \u001b[38;5;28;01mfrom\u001b[39;00m\u001b[38;5;250m \u001b[39m\u001b[34;01m.\u001b[39;00m\u001b[34;01mpandas\u001b[39;00m\u001b[38;5;250m \u001b[39m\u001b[38;5;28;01mimport\u001b[39;00m *\n\u001b[32m     29\u001b[39m \u001b[38;5;28;01mfrom\u001b[39;00m\u001b[38;5;250m \u001b[39m\u001b[34;01m.\u001b[39;00m\u001b[34;01mtypes\u001b[39;00m\u001b[38;5;250m \u001b[39m\u001b[38;5;28;01mimport\u001b[39;00m *\n",
      "\u001b[36mFile \u001b[39m\u001b[32m~/Documents/TradingAlgo/tradeEnv/lib/python3.11/site-packages/lumibot/tools/indicators.py:12\u001b[39m\n\u001b[32m     10\u001b[39m \u001b[38;5;28;01mimport\u001b[39;00m\u001b[38;5;250m \u001b[39m\u001b[34;01mplotly\u001b[39;00m\u001b[34;01m.\u001b[39;00m\u001b[34;01mgraph_objects\u001b[39;00m\u001b[38;5;250m \u001b[39m\u001b[38;5;28;01mas\u001b[39;00m\u001b[38;5;250m \u001b[39m\u001b[34;01mgo\u001b[39;00m\n\u001b[32m     11\u001b[39m \u001b[38;5;28;01mimport\u001b[39;00m\u001b[38;5;250m \u001b[39m\u001b[34;01mpytz\u001b[39;00m\n\u001b[32m---> \u001b[39m\u001b[32m12\u001b[39m \u001b[38;5;28;01mimport\u001b[39;00m\u001b[38;5;250m \u001b[39m\u001b[34;01mquantstats_lumi\u001b[39;00m\u001b[38;5;250m \u001b[39m\u001b[38;5;28;01mas\u001b[39;00m\u001b[38;5;250m \u001b[39m\u001b[34;01mqs\u001b[39;00m\n\u001b[32m     13\u001b[39m \u001b[38;5;28;01mfrom\u001b[39;00m\u001b[38;5;250m \u001b[39m\u001b[34;01mplotly\u001b[39;00m\u001b[34;01m.\u001b[39;00m\u001b[34;01msubplots\u001b[39;00m\u001b[38;5;250m \u001b[39m\u001b[38;5;28;01mimport\u001b[39;00m make_subplots\n\u001b[32m     15\u001b[39m \u001b[38;5;28;01mfrom\u001b[39;00m\u001b[38;5;250m \u001b[39m\u001b[34;01mlumibot\u001b[39;00m\u001b[38;5;250m \u001b[39m\u001b[38;5;28;01mimport\u001b[39;00m LUMIBOT_DEFAULT_TIMEZONE\n",
      "\u001b[36mFile \u001b[39m\u001b[32m~/Documents/TradingAlgo/tradeEnv/lib/python3.11/site-packages/quantstats_lumi/__init__.py:31\u001b[39m\n\u001b[32m     28\u001b[39m __all__ = [\u001b[33m\"\u001b[39m\u001b[33mstats\u001b[39m\u001b[33m\"\u001b[39m, \u001b[33m\"\u001b[39m\u001b[33mplots\u001b[39m\u001b[33m\"\u001b[39m, \u001b[33m\"\u001b[39m\u001b[33mreports\u001b[39m\u001b[33m\"\u001b[39m, \u001b[33m\"\u001b[39m\u001b[33mutils\u001b[39m\u001b[33m\"\u001b[39m, \u001b[33m\"\u001b[39m\u001b[33mextend_pandas\u001b[39m\u001b[33m\"\u001b[39m]\n\u001b[32m     30\u001b[39m \u001b[38;5;66;03m# try automatic matplotlib inline\u001b[39;00m\n\u001b[32m---> \u001b[39m\u001b[32m31\u001b[39m \u001b[43mutils\u001b[49m\u001b[43m.\u001b[49m\u001b[43m_in_notebook\u001b[49m\u001b[43m(\u001b[49m\u001b[43mmatplotlib_inline\u001b[49m\u001b[43m=\u001b[49m\u001b[38;5;28;43;01mTrue\u001b[39;49;00m\u001b[43m)\u001b[49m\n\u001b[32m     34\u001b[39m \u001b[38;5;28;01mdef\u001b[39;00m\u001b[38;5;250m \u001b[39m\u001b[34mextend_pandas\u001b[39m():\n\u001b[32m     35\u001b[39m \u001b[38;5;250m    \u001b[39m\u001b[33;03m\"\"\"\u001b[39;00m\n\u001b[32m     36\u001b[39m \u001b[33;03m    Extends pandas by exposing methods to be used like:\u001b[39;00m\n\u001b[32m     37\u001b[39m \u001b[33;03m    df.sharpe(), df.best('day'), ...\u001b[39;00m\n\u001b[32m     38\u001b[39m \u001b[33;03m    \"\"\"\u001b[39;00m\n",
      "\u001b[36mFile \u001b[39m\u001b[32m~/Documents/TradingAlgo/tradeEnv/lib/python3.11/site-packages/quantstats_lumi/utils.py:300\u001b[39m, in \u001b[36m_in_notebook\u001b[39m\u001b[34m(matplotlib_inline)\u001b[39m\n\u001b[32m    297\u001b[39m \u001b[38;5;28;01mif\u001b[39;00m shell == \u001b[33m\"\u001b[39m\u001b[33mZMQInteractiveShell\u001b[39m\u001b[33m\"\u001b[39m:\n\u001b[32m    298\u001b[39m     \u001b[38;5;66;03m# Jupyter notebook or qtconsole\u001b[39;00m\n\u001b[32m    299\u001b[39m     \u001b[38;5;28;01mif\u001b[39;00m matplotlib_inline:\n\u001b[32m--> \u001b[39m\u001b[32m300\u001b[39m         \u001b[43mget_ipython\u001b[49m\u001b[43m(\u001b[49m\u001b[43m)\u001b[49m\u001b[43m.\u001b[49m\u001b[43mmagic\u001b[49m(\u001b[33m\"\u001b[39m\u001b[33mmatplotlib inline\u001b[39m\u001b[33m\"\u001b[39m)\n\u001b[32m    301\u001b[39m     \u001b[38;5;28;01mreturn\u001b[39;00m \u001b[38;5;28;01mTrue\u001b[39;00m\n\u001b[32m    302\u001b[39m \u001b[38;5;28;01mif\u001b[39;00m shell == \u001b[33m\"\u001b[39m\u001b[33mTerminalInteractiveShell\u001b[39m\u001b[33m\"\u001b[39m:\n\u001b[32m    303\u001b[39m     \u001b[38;5;66;03m# Terminal running IPython\u001b[39;00m\n",
      "\u001b[31mAttributeError\u001b[39m: 'ZMQInteractiveShell' object has no attribute 'magic'"
     ]
    }
   ],
   "source": [
    "from datetime import datetime\n",
    "from lumibot.backtesting import YahooDataBacktesting\n",
    "from lumibot.strategies import Strategy\n"
   ]
  },
  {
   "cell_type": "code",
   "execution_count": 12,
   "id": "469b6615",
   "metadata": {},
   "outputs": [
    {
     "ename": "AttributeError",
     "evalue": "'ZMQInteractiveShell' object has no attribute 'magic'",
     "output_type": "error",
     "traceback": [
      "\u001b[31m---------------------------------------------------------------------------\u001b[39m",
      "\u001b[31mAttributeError\u001b[39m                            Traceback (most recent call last)",
      "\u001b[36mCell\u001b[39m\u001b[36m \u001b[39m\u001b[32mIn[12]\u001b[39m\u001b[32m, line 1\u001b[39m\n\u001b[32m----> \u001b[39m\u001b[32m1\u001b[39m \u001b[38;5;28;01mfrom\u001b[39;00m\u001b[38;5;250m \u001b[39m\u001b[34;01mlumibot\u001b[39;00m\u001b[34;01m.\u001b[39;00m\u001b[34;01mbrokers\u001b[39;00m\u001b[38;5;250m \u001b[39m\u001b[38;5;28;01mimport\u001b[39;00m Alpaca\n\u001b[32m      2\u001b[39m \u001b[38;5;28;01mfrom\u001b[39;00m\u001b[38;5;250m \u001b[39m\u001b[34;01mlumibot\u001b[39;00m\u001b[34;01m.\u001b[39;00m\u001b[34;01mbacktesting\u001b[39;00m\u001b[38;5;250m \u001b[39m\u001b[38;5;28;01mimport\u001b[39;00m YahooDataBacktesting\n\u001b[32m      3\u001b[39m \u001b[38;5;28;01mfrom\u001b[39;00m\u001b[38;5;250m \u001b[39m\u001b[34;01mlumibot\u001b[39;00m\u001b[34;01m.\u001b[39;00m\u001b[34;01mstrategies\u001b[39;00m\u001b[38;5;250m \u001b[39m\u001b[38;5;28;01mimport\u001b[39;00m Strategy\n",
      "\u001b[36mFile \u001b[39m\u001b[32m~/Documents/TradingAlgo/tradeEnv/lib/python3.11/site-packages/lumibot/brokers/__init__.py:1\u001b[39m\n\u001b[32m----> \u001b[39m\u001b[32m1\u001b[39m \u001b[38;5;28;01mfrom\u001b[39;00m\u001b[38;5;250m \u001b[39m\u001b[34;01m.\u001b[39;00m\u001b[34;01malpaca\u001b[39;00m\u001b[38;5;250m \u001b[39m\u001b[38;5;28;01mimport\u001b[39;00m Alpaca\n\u001b[32m      2\u001b[39m \u001b[38;5;28;01mfrom\u001b[39;00m\u001b[38;5;250m \u001b[39m\u001b[34;01m.\u001b[39;00m\u001b[34;01mbroker\u001b[39;00m\u001b[38;5;250m \u001b[39m\u001b[38;5;28;01mimport\u001b[39;00m Broker, LumibotBrokerAPIError\n\u001b[32m      3\u001b[39m \u001b[38;5;28;01mfrom\u001b[39;00m\u001b[38;5;250m \u001b[39m\u001b[34;01m.\u001b[39;00m\u001b[34;01mccxt\u001b[39;00m\u001b[38;5;250m \u001b[39m\u001b[38;5;28;01mimport\u001b[39;00m Ccxt\n",
      "\u001b[36mFile \u001b[39m\u001b[32m~/Documents/TradingAlgo/tradeEnv/lib/python3.11/site-packages/lumibot/brokers/alpaca.py:21\u001b[39m\n\u001b[32m     18\u001b[39m \u001b[38;5;28;01mfrom\u001b[39;00m\u001b[38;5;250m \u001b[39m\u001b[34;01mdateutil\u001b[39;00m\u001b[38;5;250m \u001b[39m\u001b[38;5;28;01mimport\u001b[39;00m tz\n\u001b[32m     19\u001b[39m \u001b[38;5;28;01mfrom\u001b[39;00m\u001b[38;5;250m \u001b[39m\u001b[34;01mtermcolor\u001b[39;00m\u001b[38;5;250m \u001b[39m\u001b[38;5;28;01mimport\u001b[39;00m colored\n\u001b[32m---> \u001b[39m\u001b[32m21\u001b[39m \u001b[38;5;28;01mfrom\u001b[39;00m\u001b[38;5;250m \u001b[39m\u001b[34;01mlumibot\u001b[39;00m\u001b[34;01m.\u001b[39;00m\u001b[34;01mdata_sources\u001b[39;00m\u001b[38;5;250m \u001b[39m\u001b[38;5;28;01mimport\u001b[39;00m AlpacaData\n\u001b[32m     22\u001b[39m \u001b[38;5;28;01mfrom\u001b[39;00m\u001b[38;5;250m \u001b[39m\u001b[34;01mlumibot\u001b[39;00m\u001b[34;01m.\u001b[39;00m\u001b[34;01mentities\u001b[39;00m\u001b[38;5;250m \u001b[39m\u001b[38;5;28;01mimport\u001b[39;00m Asset, Order, Position\n\u001b[32m     23\u001b[39m \u001b[38;5;28;01mfrom\u001b[39;00m\u001b[38;5;250m \u001b[39m\u001b[34;01mlumibot\u001b[39;00m\u001b[34;01m.\u001b[39;00m\u001b[34;01mtools\u001b[39;00m\u001b[34;01m.\u001b[39;00m\u001b[34;01mhelpers\u001b[39;00m\u001b[38;5;250m \u001b[39m\u001b[38;5;28;01mimport\u001b[39;00m has_more_than_n_decimal_places\n",
      "\u001b[36mFile \u001b[39m\u001b[32m~/Documents/TradingAlgo/tradeEnv/lib/python3.11/site-packages/lumibot/data_sources/__init__.py:1\u001b[39m\n\u001b[32m----> \u001b[39m\u001b[32m1\u001b[39m \u001b[38;5;28;01mfrom\u001b[39;00m\u001b[38;5;250m \u001b[39m\u001b[34;01m.\u001b[39;00m\u001b[34;01malpaca_data\u001b[39;00m\u001b[38;5;250m \u001b[39m\u001b[38;5;28;01mimport\u001b[39;00m AlpacaData\n\u001b[32m      2\u001b[39m \u001b[38;5;28;01mfrom\u001b[39;00m\u001b[38;5;250m \u001b[39m\u001b[34;01m.\u001b[39;00m\u001b[34;01malpha_vantage_data\u001b[39;00m\u001b[38;5;250m \u001b[39m\u001b[38;5;28;01mimport\u001b[39;00m AlphaVantageData\n\u001b[32m      3\u001b[39m \u001b[38;5;28;01mfrom\u001b[39;00m\u001b[38;5;250m \u001b[39m\u001b[34;01m.\u001b[39;00m\u001b[34;01mccxt_data\u001b[39;00m\u001b[38;5;250m \u001b[39m\u001b[38;5;28;01mimport\u001b[39;00m CcxtData\n",
      "\u001b[36mFile \u001b[39m\u001b[32m~/Documents/TradingAlgo/tradeEnv/lib/python3.11/site-packages/lumibot/data_sources/alpaca_data.py:29\u001b[39m\n\u001b[32m     18\u001b[39m \u001b[38;5;28;01mfrom\u001b[39;00m\u001b[38;5;250m \u001b[39m\u001b[34;01malpaca\u001b[39;00m\u001b[34;01m.\u001b[39;00m\u001b[34;01mdata\u001b[39;00m\u001b[34;01m.\u001b[39;00m\u001b[34;01mrequests\u001b[39;00m\u001b[38;5;250m \u001b[39m\u001b[38;5;28;01mimport\u001b[39;00m (\n\u001b[32m     19\u001b[39m     CryptoBarsRequest,\n\u001b[32m     20\u001b[39m     CryptoLatestQuoteRequest,\n\u001b[32m   (...)\u001b[39m\u001b[32m     25\u001b[39m     OptionChainRequest,\n\u001b[32m     26\u001b[39m )\n\u001b[32m     27\u001b[39m \u001b[38;5;28;01mfrom\u001b[39;00m\u001b[38;5;250m \u001b[39m\u001b[34;01malpaca\u001b[39;00m\u001b[34;01m.\u001b[39;00m\u001b[34;01mdata\u001b[39;00m\u001b[34;01m.\u001b[39;00m\u001b[34;01mtimeframe\u001b[39;00m\u001b[38;5;250m \u001b[39m\u001b[38;5;28;01mimport\u001b[39;00m TimeFrame\n\u001b[32m---> \u001b[39m\u001b[32m29\u001b[39m \u001b[38;5;28;01mfrom\u001b[39;00m\u001b[38;5;250m \u001b[39m\u001b[34;01mlumibot\u001b[39;00m\u001b[34;01m.\u001b[39;00m\u001b[34;01mentities\u001b[39;00m\u001b[38;5;250m \u001b[39m\u001b[38;5;28;01mimport\u001b[39;00m Asset, Bars\n\u001b[32m     30\u001b[39m \u001b[38;5;28;01mfrom\u001b[39;00m\u001b[38;5;250m \u001b[39m\u001b[34;01mlumibot\u001b[39;00m\u001b[38;5;250m \u001b[39m\u001b[38;5;28;01mimport\u001b[39;00m (\n\u001b[32m     31\u001b[39m     LUMIBOT_DEFAULT_TIMEZONE,\n\u001b[32m     32\u001b[39m     LUMIBOT_DEFAULT_QUOTE_ASSET_SYMBOL,\n\u001b[32m     33\u001b[39m     LUMIBOT_DEFAULT_QUOTE_ASSET_TYPE\n\u001b[32m     34\u001b[39m )\n\u001b[32m     35\u001b[39m \u001b[38;5;28;01mfrom\u001b[39;00m\u001b[38;5;250m \u001b[39m\u001b[34;01mlumibot\u001b[39;00m\u001b[34;01m.\u001b[39;00m\u001b[34;01mtools\u001b[39;00m\u001b[34;01m.\u001b[39;00m\u001b[34;01mhelpers\u001b[39;00m\u001b[38;5;250m \u001b[39m\u001b[38;5;28;01mimport\u001b[39;00m (\n\u001b[32m     36\u001b[39m     get_decimals,\n\u001b[32m     37\u001b[39m     quantize_to_num_decimals,\n\u001b[32m     38\u001b[39m     get_trading_days,\n\u001b[32m     39\u001b[39m     date_n_trading_days_from_date\n\u001b[32m     40\u001b[39m )\n",
      "\u001b[36mFile \u001b[39m\u001b[32m~/Documents/TradingAlgo/tradeEnv/lib/python3.11/site-packages/lumibot/entities/__init__.py:1\u001b[39m\n\u001b[32m----> \u001b[39m\u001b[32m1\u001b[39m \u001b[38;5;28;01mfrom\u001b[39;00m\u001b[38;5;250m \u001b[39m\u001b[34;01m.\u001b[39;00m\u001b[34;01masset\u001b[39;00m\u001b[38;5;250m \u001b[39m\u001b[38;5;28;01mimport\u001b[39;00m Asset, AssetsMapping\n\u001b[32m      2\u001b[39m \u001b[38;5;28;01mfrom\u001b[39;00m\u001b[38;5;250m \u001b[39m\u001b[34;01m.\u001b[39;00m\u001b[34;01mbar\u001b[39;00m\u001b[38;5;250m \u001b[39m\u001b[38;5;28;01mimport\u001b[39;00m Bar\n\u001b[32m      3\u001b[39m \u001b[38;5;28;01mfrom\u001b[39;00m\u001b[38;5;250m \u001b[39m\u001b[34;01m.\u001b[39;00m\u001b[34;01mbars\u001b[39;00m\u001b[38;5;250m \u001b[39m\u001b[38;5;28;01mimport\u001b[39;00m Bars\n",
      "\u001b[36mFile \u001b[39m\u001b[32m~/Documents/TradingAlgo/tradeEnv/lib/python3.11/site-packages/lumibot/entities/asset.py:5\u001b[39m\n\u001b[32m      2\u001b[39m \u001b[38;5;28;01mfrom\u001b[39;00m\u001b[38;5;250m \u001b[39m\u001b[34;01mdatetime\u001b[39;00m\u001b[38;5;250m \u001b[39m\u001b[38;5;28;01mimport\u001b[39;00m date, datetime\n\u001b[32m      3\u001b[39m \u001b[38;5;28;01mfrom\u001b[39;00m\u001b[38;5;250m \u001b[39m\u001b[34;01menum\u001b[39;00m\u001b[38;5;250m \u001b[39m\u001b[38;5;28;01mimport\u001b[39;00m Enum\n\u001b[32m----> \u001b[39m\u001b[32m5\u001b[39m \u001b[38;5;28;01mfrom\u001b[39;00m\u001b[38;5;250m \u001b[39m\u001b[34;01mlumibot\u001b[39;00m\u001b[34;01m.\u001b[39;00m\u001b[34;01mtools\u001b[39;00m\u001b[38;5;250m \u001b[39m\u001b[38;5;28;01mimport\u001b[39;00m parse_symbol\n\u001b[32m      8\u001b[39m \u001b[38;5;66;03m# Custom string enum implementation for Python 3.9 compatibility\u001b[39;00m\n\u001b[32m      9\u001b[39m \u001b[38;5;28;01mclass\u001b[39;00m\u001b[38;5;250m \u001b[39m\u001b[34;01mStrEnum\u001b[39;00m(\u001b[38;5;28mstr\u001b[39m, Enum):\n",
      "\u001b[36mFile \u001b[39m\u001b[32m~/Documents/TradingAlgo/tradeEnv/lib/python3.11/site-packages/lumibot/tools/__init__.py:12\u001b[39m\n\u001b[32m     10\u001b[39m \u001b[38;5;28;01mfrom\u001b[39;00m\u001b[38;5;250m \u001b[39m\u001b[34;01m.\u001b[39;00m\u001b[34;01mdecorators\u001b[39;00m\u001b[38;5;250m \u001b[39m\u001b[38;5;28;01mimport\u001b[39;00m append_locals, execute_after, snatch_locals, staticdecorator\n\u001b[32m     11\u001b[39m \u001b[38;5;28;01mfrom\u001b[39;00m\u001b[38;5;250m \u001b[39m\u001b[34;01m.\u001b[39;00m\u001b[34;01mhelpers\u001b[39;00m\u001b[38;5;250m \u001b[39m\u001b[38;5;28;01mimport\u001b[39;00m *\n\u001b[32m---> \u001b[39m\u001b[32m12\u001b[39m \u001b[38;5;28;01mfrom\u001b[39;00m\u001b[38;5;250m \u001b[39m\u001b[34;01m.\u001b[39;00m\u001b[34;01mindicators\u001b[39;00m\u001b[38;5;250m \u001b[39m\u001b[38;5;28;01mimport\u001b[39;00m (\n\u001b[32m     13\u001b[39m     cagr,\n\u001b[32m     14\u001b[39m     calculate_returns,\n\u001b[32m     15\u001b[39m     create_tearsheet,\n\u001b[32m     16\u001b[39m     get_risk_free_rate,\n\u001b[32m     17\u001b[39m     get_symbol_returns,\n\u001b[32m     18\u001b[39m     max_drawdown,\n\u001b[32m     19\u001b[39m     performance,\n\u001b[32m     20\u001b[39m     plot_indicators,\n\u001b[32m     21\u001b[39m     plot_returns,\n\u001b[32m     22\u001b[39m     romad,\n\u001b[32m     23\u001b[39m     sharpe,\n\u001b[32m     24\u001b[39m     stats_summary,\n\u001b[32m     25\u001b[39m     total_return,\n\u001b[32m     26\u001b[39m     volatility,\n\u001b[32m     27\u001b[39m )\n\u001b[32m     28\u001b[39m \u001b[38;5;28;01mfrom\u001b[39;00m\u001b[38;5;250m \u001b[39m\u001b[34;01m.\u001b[39;00m\u001b[34;01mpandas\u001b[39;00m\u001b[38;5;250m \u001b[39m\u001b[38;5;28;01mimport\u001b[39;00m *\n\u001b[32m     29\u001b[39m \u001b[38;5;28;01mfrom\u001b[39;00m\u001b[38;5;250m \u001b[39m\u001b[34;01m.\u001b[39;00m\u001b[34;01mtypes\u001b[39;00m\u001b[38;5;250m \u001b[39m\u001b[38;5;28;01mimport\u001b[39;00m *\n",
      "\u001b[36mFile \u001b[39m\u001b[32m~/Documents/TradingAlgo/tradeEnv/lib/python3.11/site-packages/lumibot/tools/indicators.py:12\u001b[39m\n\u001b[32m     10\u001b[39m \u001b[38;5;28;01mimport\u001b[39;00m\u001b[38;5;250m \u001b[39m\u001b[34;01mplotly\u001b[39;00m\u001b[34;01m.\u001b[39;00m\u001b[34;01mgraph_objects\u001b[39;00m\u001b[38;5;250m \u001b[39m\u001b[38;5;28;01mas\u001b[39;00m\u001b[38;5;250m \u001b[39m\u001b[34;01mgo\u001b[39;00m\n\u001b[32m     11\u001b[39m \u001b[38;5;28;01mimport\u001b[39;00m\u001b[38;5;250m \u001b[39m\u001b[34;01mpytz\u001b[39;00m\n\u001b[32m---> \u001b[39m\u001b[32m12\u001b[39m \u001b[38;5;28;01mimport\u001b[39;00m\u001b[38;5;250m \u001b[39m\u001b[34;01mquantstats_lumi\u001b[39;00m\u001b[38;5;250m \u001b[39m\u001b[38;5;28;01mas\u001b[39;00m\u001b[38;5;250m \u001b[39m\u001b[34;01mqs\u001b[39;00m\n\u001b[32m     13\u001b[39m \u001b[38;5;28;01mfrom\u001b[39;00m\u001b[38;5;250m \u001b[39m\u001b[34;01mplotly\u001b[39;00m\u001b[34;01m.\u001b[39;00m\u001b[34;01msubplots\u001b[39;00m\u001b[38;5;250m \u001b[39m\u001b[38;5;28;01mimport\u001b[39;00m make_subplots\n\u001b[32m     15\u001b[39m \u001b[38;5;28;01mfrom\u001b[39;00m\u001b[38;5;250m \u001b[39m\u001b[34;01mlumibot\u001b[39;00m\u001b[38;5;250m \u001b[39m\u001b[38;5;28;01mimport\u001b[39;00m LUMIBOT_DEFAULT_TIMEZONE\n",
      "\u001b[36mFile \u001b[39m\u001b[32m~/Documents/TradingAlgo/tradeEnv/lib/python3.11/site-packages/quantstats_lumi/__init__.py:31\u001b[39m\n\u001b[32m     28\u001b[39m __all__ = [\u001b[33m\"\u001b[39m\u001b[33mstats\u001b[39m\u001b[33m\"\u001b[39m, \u001b[33m\"\u001b[39m\u001b[33mplots\u001b[39m\u001b[33m\"\u001b[39m, \u001b[33m\"\u001b[39m\u001b[33mreports\u001b[39m\u001b[33m\"\u001b[39m, \u001b[33m\"\u001b[39m\u001b[33mutils\u001b[39m\u001b[33m\"\u001b[39m, \u001b[33m\"\u001b[39m\u001b[33mextend_pandas\u001b[39m\u001b[33m\"\u001b[39m]\n\u001b[32m     30\u001b[39m \u001b[38;5;66;03m# try automatic matplotlib inline\u001b[39;00m\n\u001b[32m---> \u001b[39m\u001b[32m31\u001b[39m \u001b[43mutils\u001b[49m\u001b[43m.\u001b[49m\u001b[43m_in_notebook\u001b[49m\u001b[43m(\u001b[49m\u001b[43mmatplotlib_inline\u001b[49m\u001b[43m=\u001b[49m\u001b[38;5;28;43;01mTrue\u001b[39;49;00m\u001b[43m)\u001b[49m\n\u001b[32m     34\u001b[39m \u001b[38;5;28;01mdef\u001b[39;00m\u001b[38;5;250m \u001b[39m\u001b[34mextend_pandas\u001b[39m():\n\u001b[32m     35\u001b[39m \u001b[38;5;250m    \u001b[39m\u001b[33;03m\"\"\"\u001b[39;00m\n\u001b[32m     36\u001b[39m \u001b[33;03m    Extends pandas by exposing methods to be used like:\u001b[39;00m\n\u001b[32m     37\u001b[39m \u001b[33;03m    df.sharpe(), df.best('day'), ...\u001b[39;00m\n\u001b[32m     38\u001b[39m \u001b[33;03m    \"\"\"\u001b[39;00m\n",
      "\u001b[36mFile \u001b[39m\u001b[32m~/Documents/TradingAlgo/tradeEnv/lib/python3.11/site-packages/quantstats_lumi/utils.py:300\u001b[39m, in \u001b[36m_in_notebook\u001b[39m\u001b[34m(matplotlib_inline)\u001b[39m\n\u001b[32m    297\u001b[39m \u001b[38;5;28;01mif\u001b[39;00m shell == \u001b[33m\"\u001b[39m\u001b[33mZMQInteractiveShell\u001b[39m\u001b[33m\"\u001b[39m:\n\u001b[32m    298\u001b[39m     \u001b[38;5;66;03m# Jupyter notebook or qtconsole\u001b[39;00m\n\u001b[32m    299\u001b[39m     \u001b[38;5;28;01mif\u001b[39;00m matplotlib_inline:\n\u001b[32m--> \u001b[39m\u001b[32m300\u001b[39m         \u001b[43mget_ipython\u001b[49m\u001b[43m(\u001b[49m\u001b[43m)\u001b[49m\u001b[43m.\u001b[49m\u001b[43mmagic\u001b[49m(\u001b[33m\"\u001b[39m\u001b[33mmatplotlib inline\u001b[39m\u001b[33m\"\u001b[39m)\n\u001b[32m    301\u001b[39m     \u001b[38;5;28;01mreturn\u001b[39;00m \u001b[38;5;28;01mTrue\u001b[39;00m\n\u001b[32m    302\u001b[39m \u001b[38;5;28;01mif\u001b[39;00m shell == \u001b[33m\"\u001b[39m\u001b[33mTerminalInteractiveShell\u001b[39m\u001b[33m\"\u001b[39m:\n\u001b[32m    303\u001b[39m     \u001b[38;5;66;03m# Terminal running IPython\u001b[39;00m\n",
      "\u001b[31mAttributeError\u001b[39m: 'ZMQInteractiveShell' object has no attribute 'magic'"
     ]
    }
   ],
   "source": [
    "from lumibot.brokers import Alpaca\n",
    "from lumibot.backtesting import YahooDataBacktesting\n",
    "from lumibot.strategies import Strategy\n",
    "from lumibot.traders import Trader\n",
    "from datetime import datetime"
   ]
  },
  {
   "cell_type": "code",
   "execution_count": null,
   "id": "aca06a3d",
   "metadata": {},
   "outputs": [],
   "source": [
    "from dotenv import load_dotenv\n",
    "import os\n",
    "\n",
    "load_dotenv()  # Automatically looks for a .env file in the current directory\n",
    "\n",
    "api_key = os.getenv(\"training_api_key\")\n",
    "api_secret = os.getenv(\"training_api_secret\")\n",
    "BASE_URL = 'https://paper-api.alpaca.markets' "
   ]
  },
  {
   "cell_type": "code",
   "execution_count": null,
   "id": "fe0a4367",
   "metadata": {},
   "outputs": [],
   "source": [
    "class AlpacaCreds:\n",
    "    def __init__(self, api_key, api_secret, base_url, paper):\n",
    "        self.API_KEY = api_key\n",
    "        self.API_SECRET = api_secret\n",
    "        self.BASE_URL = base_url\n",
    "        self.Paper = paper"
   ]
  },
  {
   "cell_type": "code",
   "execution_count": null,
   "id": "601eb91f",
   "metadata": {},
   "outputs": [],
   "source": [
    "ALPACA_CREDS = AlpacaCreds(api_key, api_secret, BASE_URL, True)"
   ]
  },
  {
   "cell_type": "code",
   "execution_count": null,
   "id": "1b8cf672",
   "metadata": {},
   "outputs": [],
   "source": [
    "class FirstStrategy(Strategy):\n",
    "    def initialize(self, symbol:str=\"SPY\"):\n",
    "        self.symbol = symbol\n",
    "        self.sleeptime = \"24H\" # The amount of time to sleep between trades\n",
    "        self.last_trade = None\n",
    "\n",
    "    def on_trading_iteration(self):\n",
    "        if self.last_trade == None:\n",
    "            order = self.create_order(\n",
    "                self.symbol,\n",
    "                10,\n",
    "                \"buy\",\n",
    "                type=\"market\"\n",
    "            )\n",
    "\n",
    "            self.submit_order(order)\n",
    "            self.last_trade = \"buy\""
   ]
  },
  {
   "cell_type": "code",
   "execution_count": null,
   "id": "e47319f7",
   "metadata": {},
   "outputs": [],
   "source": [
    "start_date = datetime(2023, 1, 1)\n",
    "end_date = datetime(2023, 10, 1)"
   ]
  },
  {
   "cell_type": "code",
   "execution_count": null,
   "id": "496c24da",
   "metadata": {},
   "outputs": [],
   "source": [
    "broker = Alpaca(ALPACA_CREDS)\n",
    "strategy = FirstStrategy(name='first_strategy'\n",
    "                      , broker=broker\n",
    "                      , parameters={\"symbol\": \"SPY\"})\n",
    "\n",
    "strategy.backtest(\n",
    "    YahooDataBacktesting\n",
    "    , start_date=start_date\n",
    "    , end_date=end_date\n",
    "    , parameters={\"symbol\": \"SPY\"}\n",
    ")"
   ]
  },
  {
   "cell_type": "code",
   "execution_count": null,
   "id": "c3c65c52",
   "metadata": {},
   "outputs": [],
   "source": []
  }
 ],
 "metadata": {
  "kernelspec": {
   "display_name": "tradeEnv",
   "language": "python",
   "name": "python3"
  },
  "language_info": {
   "codemirror_mode": {
    "name": "ipython",
    "version": 3
   },
   "file_extension": ".py",
   "mimetype": "text/x-python",
   "name": "python",
   "nbconvert_exporter": "python",
   "pygments_lexer": "ipython3",
   "version": "3.11.12"
  }
 },
 "nbformat": 4,
 "nbformat_minor": 5
}
