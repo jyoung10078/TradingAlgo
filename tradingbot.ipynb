{
 "cells": [
  {
   "cell_type": "code",
   "execution_count": 2,
   "id": "469b6615",
   "metadata": {},
   "outputs": [],
   "source": [
    "from lumibot.brokers import Alpaca\n",
    "from lumibot.backtesting import YahooDataBacktesting\n",
    "from lumibot.strategies import Strategy\n",
    "from lumibot.traders import Trader\n",
    "from datetime import datetime"
   ]
  },
  {
   "cell_type": "code",
   "execution_count": 3,
   "id": "aca06a3d",
   "metadata": {},
   "outputs": [],
   "source": [
    "from dotenv import load_dotenv\n",
    "import os\n",
    "\n",
    "load_dotenv()  # Automatically looks for a .env file in the current directory\n",
    "\n",
    "api_key = os.getenv(\"training_api_key\")\n",
    "api_secret = os.getenv(\"training_api_secret\")\n",
    "BASE_URL = 'https://paper-api.alpaca.markets' "
   ]
  },
  {
   "cell_type": "code",
   "execution_count": 6,
   "id": "5158bbb8",
   "metadata": {},
   "outputs": [],
   "source": [
    "ALPACA_CREDS = {\n",
    "    \"API_KEY\": api_key,\n",
    "    \"API_SECRET\": api_secret,\n",
    "    \"BASE_URL\": BASE_URL,\n",
    "    \"PAPER\": True,\n",
    "}"
   ]
  },
  {
   "cell_type": "code",
   "execution_count": null,
   "id": "1b8cf672",
   "metadata": {},
   "outputs": [],
   "source": [
    "class FirstStrategy(Strategy):\n",
    "    def initialize(self, symbol:str=\"SPY\"):\n",
    "        self.symbol = symbol\n",
    "        self.sleeptime = \"24H\" # The amount of time to sleep between trades\n",
    "        self.last_trade = None\n",
    "\n",
    "    def on_trading_iteration(self):\n",
    "        if self.last_trade == None:\n",
    "            order = self.create_order(\n",
    "                self.symbol,\n",
    "                10,\n",
    "                \"buy\",\n",
    "                type=\"market\"\n",
    "            )"
   ]
  },
  {
   "cell_type": "code",
   "execution_count": 8,
   "id": "e47319f7",
   "metadata": {},
   "outputs": [],
   "source": [
    "start_date = datetime(2023, 1, 1)\n",
    "end_date = datetime(2023, 10, 1)"
   ]
  },
  {
   "cell_type": "code",
   "execution_count": null,
   "id": "496c24da",
   "metadata": {},
   "outputs": [
    {
     "ename": "AttributeError",
     "evalue": "'dict' object has no attribute 'API_KEY'",
     "output_type": "error",
     "traceback": [
      "\u001b[0;31m---------------------------------------------------------------------------\u001b[0m",
      "\u001b[0;31mAttributeError\u001b[0m                            Traceback (most recent call last)",
      "Cell \u001b[0;32mIn[9], line 1\u001b[0m\n\u001b[0;32m----> 1\u001b[0m broker \u001b[38;5;241m=\u001b[39m \u001b[43mAlpaca\u001b[49m\u001b[43m(\u001b[49m\u001b[43mALPACA_CREDS\u001b[49m\u001b[43m)\u001b[49m\n\u001b[1;32m      2\u001b[0m strategy \u001b[38;5;241m=\u001b[39m FirstStrategy(name\u001b[38;5;241m=\u001b[39m\u001b[38;5;124m'\u001b[39m\u001b[38;5;124mfirst_strategy\u001b[39m\u001b[38;5;124m'\u001b[39m\n\u001b[1;32m      3\u001b[0m                       , broker\u001b[38;5;241m=\u001b[39mbroker\n\u001b[1;32m      4\u001b[0m                       , parameters\u001b[38;5;241m=\u001b[39m{})\n\u001b[1;32m      6\u001b[0m strategy\u001b[38;5;241m.\u001b[39mbacktest(\n\u001b[1;32m      7\u001b[0m     YahooDataBacktesting\n\u001b[1;32m      8\u001b[0m     , start_date\u001b[38;5;241m=\u001b[39mstart_date\n\u001b[1;32m      9\u001b[0m     , end_date\u001b[38;5;241m=\u001b[39mend_date\n\u001b[1;32m     10\u001b[0m     , parameters\u001b[38;5;241m=\u001b[39m{}\n\u001b[1;32m     11\u001b[0m )\n",
      "File \u001b[0;32m~/Documents/TradingAlgo/tradingalgo/lib/python3.9/site-packages/lumibot/brokers/alpaca.py:21\u001b[0m, in \u001b[0;36mAlpaca.__init__\u001b[0;34m(self, config, max_workers, chunk_size, connect_stream)\u001b[0m\n\u001b[1;32m     19\u001b[0m \u001b[38;5;28;01mdef\u001b[39;00m\u001b[38;5;250m \u001b[39m\u001b[38;5;21m__init__\u001b[39m(\u001b[38;5;28mself\u001b[39m, config, max_workers\u001b[38;5;241m=\u001b[39m\u001b[38;5;241m20\u001b[39m, chunk_size\u001b[38;5;241m=\u001b[39m\u001b[38;5;241m100\u001b[39m, connect_stream\u001b[38;5;241m=\u001b[39m\u001b[38;5;28;01mTrue\u001b[39;00m):\n\u001b[1;32m     20\u001b[0m     \u001b[38;5;66;03m# Calling init methods\u001b[39;00m\n\u001b[0;32m---> 21\u001b[0m     \u001b[43mAlpacaData\u001b[49m\u001b[38;5;241;43m.\u001b[39;49m\u001b[38;5;21;43m__init__\u001b[39;49m\u001b[43m(\u001b[49m\n\u001b[1;32m     22\u001b[0m \u001b[43m        \u001b[49m\u001b[38;5;28;43mself\u001b[39;49m\u001b[43m,\u001b[49m\u001b[43m \u001b[49m\u001b[43mconfig\u001b[49m\u001b[43m,\u001b[49m\u001b[43m \u001b[49m\u001b[43mmax_workers\u001b[49m\u001b[38;5;241;43m=\u001b[39;49m\u001b[43mmax_workers\u001b[49m\u001b[43m,\u001b[49m\u001b[43m \u001b[49m\u001b[43mchunk_size\u001b[49m\u001b[38;5;241;43m=\u001b[39;49m\u001b[43mchunk_size\u001b[49m\n\u001b[1;32m     23\u001b[0m \u001b[43m    \u001b[49m\u001b[43m)\u001b[49m\n\u001b[1;32m     24\u001b[0m     Broker\u001b[38;5;241m.\u001b[39m\u001b[38;5;21m__init__\u001b[39m(\u001b[38;5;28mself\u001b[39m, name\u001b[38;5;241m=\u001b[39m\u001b[38;5;124m\"\u001b[39m\u001b[38;5;124malpaca\u001b[39m\u001b[38;5;124m\"\u001b[39m, connect_stream\u001b[38;5;241m=\u001b[39mconnect_stream)\n",
      "File \u001b[0;32m~/Documents/TradingAlgo/tradingalgo/lib/python3.9/site-packages/lumibot/data_sources/alpaca_data.py:42\u001b[0m, in \u001b[0;36mAlpacaData.__init__\u001b[0;34m(self, config, max_workers, chunk_size, **kwargs)\u001b[0m\n\u001b[1;32m     40\u001b[0m \u001b[38;5;66;03m# Connection to alpaca REST API\u001b[39;00m\n\u001b[1;32m     41\u001b[0m \u001b[38;5;28mself\u001b[39m\u001b[38;5;241m.\u001b[39mconfig \u001b[38;5;241m=\u001b[39m config\n\u001b[0;32m---> 42\u001b[0m \u001b[38;5;28mself\u001b[39m\u001b[38;5;241m.\u001b[39mapi_key \u001b[38;5;241m=\u001b[39m \u001b[43mconfig\u001b[49m\u001b[38;5;241;43m.\u001b[39;49m\u001b[43mAPI_KEY\u001b[49m\n\u001b[1;32m     43\u001b[0m \u001b[38;5;28mself\u001b[39m\u001b[38;5;241m.\u001b[39mapi_secret \u001b[38;5;241m=\u001b[39m config\u001b[38;5;241m.\u001b[39mAPI_SECRET\n\u001b[1;32m     44\u001b[0m \u001b[38;5;28;01mif\u001b[39;00m \u001b[38;5;28mhasattr\u001b[39m(config, \u001b[38;5;124m\"\u001b[39m\u001b[38;5;124mENDPOINT\u001b[39m\u001b[38;5;124m\"\u001b[39m):\n",
      "\u001b[0;31mAttributeError\u001b[0m: 'dict' object has no attribute 'API_KEY'"
     ]
    }
   ],
   "source": [
    "broker = Alpaca(ALPACA_CREDS)\n",
    "strategy = FirstStrategy(name='first_strategy'\n",
    "                      , broker=broker\n",
    "                      , parameters={\"symbol\": \"SPY\"})\n",
    "\n",
    "strategy.backtest(\n",
    "    YahooDataBacktesting\n",
    "    , start_date=start_date\n",
    "    , end_date=end_date\n",
    "    , parameters={\"symbol\": \"SPY\"}\n",
    ")"
   ]
  },
  {
   "cell_type": "code",
   "execution_count": null,
   "id": "a90c9703",
   "metadata": {},
   "outputs": [],
   "source": []
  }
 ],
 "metadata": {
  "kernelspec": {
   "display_name": "tradingalgo",
   "language": "python",
   "name": "python3"
  },
  "language_info": {
   "codemirror_mode": {
    "name": "ipython",
    "version": 3
   },
   "file_extension": ".py",
   "mimetype": "text/x-python",
   "name": "python",
   "nbconvert_exporter": "python",
   "pygments_lexer": "ipython3",
   "version": "3.9.6"
  }
 },
 "nbformat": 4,
 "nbformat_minor": 5
}
