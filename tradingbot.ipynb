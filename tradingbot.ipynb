{
 "cells": [
  {
   "cell_type": "code",
   "execution_count": 2,
   "id": "469b6615",
   "metadata": {},
   "outputs": [],
   "source": [
    "from lumibot.brokers import Alpaca\n",
    "from lumibot.backtesting import YahooDataBacktesting\n",
    "from lumibot.strategies import Strategy\n",
    "from lumibot.traders import Trader\n",
    "from datetime import datetime"
   ]
  },
  {
   "cell_type": "code",
   "execution_count": 3,
   "id": "aca06a3d",
   "metadata": {},
   "outputs": [],
   "source": [
    "from dotenv import load_dotenv\n",
    "import os\n",
    "\n",
    "load_dotenv()  # Automatically looks for a .env file in the current directory\n",
    "\n",
    "api_key = os.getenv(\"training_api_key\")\n",
    "api_secret = os.getenv(\"training_api_secret\")\n",
    "BASE_URL = 'https://paper-api.alpaca.markets' "
   ]
  },
  {
   "cell_type": "code",
   "execution_count": null,
   "id": "5158bbb8",
   "metadata": {},
   "outputs": [],
   "source": [
    "ALPACA_CREDS = {\n",
    "    \"API_KEY\": api_key,\n",
    "    \"API_SECRET\": api_secret,\n",
    "    \"BASE_URL\": BASE_URL,\n",
    "    \"PAPER\": True,\n",
    "}"
   ]
  }
 ],
 "metadata": {
  "kernelspec": {
   "display_name": "tradingalgo",
   "language": "python",
   "name": "python3"
  },
  "language_info": {
   "codemirror_mode": {
    "name": "ipython",
    "version": 3
   },
   "file_extension": ".py",
   "mimetype": "text/x-python",
   "name": "python",
   "nbconvert_exporter": "python",
   "pygments_lexer": "ipython3",
   "version": "3.9.6"
  }
 },
 "nbformat": 4,
 "nbformat_minor": 5
}
