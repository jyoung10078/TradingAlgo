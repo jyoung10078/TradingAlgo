{
 "cells": [
  {
   "cell_type": "markdown",
   "id": "2e1801d8",
   "metadata": {},
   "source": [
    "# Options Trading Algorithm"
   ]
  },
  {
   "cell_type": "markdown",
   "id": "e704fd48",
   "metadata": {},
   "source": [
    "- Author: Jared Young\n",
    "- Date: May 6th, 2025\n",
    "- Description: This is where I will test out the code get everything ready for my production-level trading algorithm"
   ]
  },
  {
   "cell_type": "markdown",
   "id": "29d3e055",
   "metadata": {},
   "source": [
    "### Defining Evironment and Establishing Alpaca Connection"
   ]
  },
  {
   "cell_type": "code",
   "execution_count": 8,
   "id": "2fb2f83e",
   "metadata": {},
   "outputs": [],
   "source": [
    "from dotenv import load_dotenv\n",
    "import os\n",
    "\n",
    "load_dotenv()  # Automatically looks for a .env file in the current directory\n",
    "\n",
    "api_key = os.getenv(\"training_api_key\")\n",
    "api_secret = os.getenv(\"training_api_secret\")\n",
    "BASE_URL = 'https://paper-api.alpaca.markets' "
   ]
  },
  {
   "cell_type": "code",
   "execution_count": 9,
   "id": "a80d78bc",
   "metadata": {},
   "outputs": [
    {
     "name": "stdout",
     "output_type": "stream",
     "text": [
      "$200000 is available as buying power.\n"
     ]
    }
   ],
   "source": [
    "from alpaca.trading.client import TradingClient\n",
    "from alpaca.trading.requests import GetAssetsRequest\n",
    "import alpaca_trade_api as tradeapi\n",
    "\n",
    "# Connect using your real or paper API keys\n",
    "trading_client = TradingClient(api_key, api_secret, paper=True)\n",
    "\n",
    "# Get account info\n",
    "account = trading_client.get_account()\n",
    "\n",
    "# Print account status\n",
    "if account.trading_blocked:\n",
    "    print(\"Account is currently restricted from trading.\")\n",
    "\n",
    "print(f\"${account.buying_power} is available as buying power.\")"
   ]
  },
  {
   "cell_type": "code",
   "execution_count": 10,
   "id": "930f9a83",
   "metadata": {},
   "outputs": [
    {
     "name": "stdout",
     "output_type": "stream",
     "text": [
      "Current price of AAPL: $198.445\n"
     ]
    }
   ],
   "source": [
    "# Paper trading endpoint\n",
    "api = tradeapi.REST(api_key, api_secret, BASE_URL, api_version='v2')\n",
    "\n",
    "# Get the latest trade price for AAPL\n",
    "symbol = 'AAPL'\n",
    "quote = api.get_latest_trade(symbol)\n",
    "\n",
    "print(f\"Current price of {symbol}: ${quote.price}\")"
   ]
  },
  {
   "cell_type": "code",
   "execution_count": null,
   "id": "3d11adb9",
   "metadata": {},
   "outputs": [],
   "source": []
  }
 ],
 "metadata": {
  "kernelspec": {
   "display_name": "tradingalgo",
   "language": "python",
   "name": "python3"
  },
  "language_info": {
   "codemirror_mode": {
    "name": "ipython",
    "version": 3
   },
   "file_extension": ".py",
   "mimetype": "text/x-python",
   "name": "python",
   "nbconvert_exporter": "python",
   "pygments_lexer": "ipython3",
   "version": "3.9.6"
  }
 },
 "nbformat": 4,
 "nbformat_minor": 5
}
