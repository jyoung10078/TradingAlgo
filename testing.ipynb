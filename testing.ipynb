{
 "cells": [
  {
   "cell_type": "markdown",
   "id": "2e1801d8",
   "metadata": {},
   "source": [
    "# Options Trading Algorithm"
   ]
  },
  {
   "cell_type": "markdown",
   "id": "e704fd48",
   "metadata": {},
   "source": [
    "- Author: Jared Young\n",
    "- Date: May 6th, 2025\n",
    "- Description: This is where I will test out the code get everything ready for my production-level trading algorithm"
   ]
  },
  {
   "cell_type": "markdown",
   "id": "29d3e055",
   "metadata": {},
   "source": [
    "### Defining Evironment and Establishing Alpaca Connection"
   ]
  },
  {
   "cell_type": "code",
   "execution_count": 4,
   "id": "2fb2f83e",
   "metadata": {},
   "outputs": [],
   "source": [
    "from dotenv import load_dotenv\n",
    "import os\n",
    "\n",
    "load_dotenv()  # Automatically looks for a .env file in the current directory\n",
    "\n",
    "api_key = os.getenv(\"api_key\")\n",
    "api_secret = os.getenv(\"api_secret\")"
   ]
  },
  {
   "cell_type": "code",
   "execution_count": null,
   "id": "a80d78bc",
   "metadata": {},
   "outputs": [],
   "source": []
  }
 ],
 "metadata": {
  "kernelspec": {
   "display_name": "tradingalgo",
   "language": "python",
   "name": "python3"
  },
  "language_info": {
   "codemirror_mode": {
    "name": "ipython",
    "version": 3
   },
   "file_extension": ".py",
   "mimetype": "text/x-python",
   "name": "python",
   "nbconvert_exporter": "python",
   "pygments_lexer": "ipython3",
   "version": "3.9.6"
  }
 },
 "nbformat": 4,
 "nbformat_minor": 5
}
