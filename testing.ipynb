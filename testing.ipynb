{
 "cells": [
  {
   "cell_type": "markdown",
   "id": "2e1801d8",
   "metadata": {},
   "source": [
    "# Options Trading Algorithm"
   ]
  },
  {
   "cell_type": "markdown",
   "id": "e704fd48",
   "metadata": {},
   "source": [
    "- Author: Jared Young\n",
    "- Date: May 6th, 2025\n",
    "- Description: This is where I will test out the code get everything ready for my production-level trading algorithm"
   ]
  },
  {
   "cell_type": "markdown",
   "id": "29d3e055",
   "metadata": {},
   "source": [
    "### Defining Evironment and Establishing Alpaca Connection"
   ]
  },
  {
   "cell_type": "markdown",
   "id": "37dc12ac",
   "metadata": {},
   "source": []
  }
 ],
 "metadata": {
  "language_info": {
   "name": "python"
  }
 },
 "nbformat": 4,
 "nbformat_minor": 5
}
